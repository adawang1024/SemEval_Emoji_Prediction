{
  "cells": [
    {
      "cell_type": "code",
      "execution_count": 132,
      "metadata": {
        "colab": {
          "base_uri": "https://localhost:8080/"
        },
        "id": "hQ_ZG5hd8yHY",
        "outputId": "6c26179c-47e8-490b-c275-d6106e1808cc"
      },
      "outputs": [
        {
          "output_type": "stream",
          "name": "stdout",
          "text": [
            "Drive already mounted at /content/drive; to attempt to forcibly remount, call drive.mount(\"/content/drive\", force_remount=True).\n"
          ]
        }
      ],
      "source": [
        "from google.colab import drive\n",
        "drive.mount('/content/drive')"
      ]
    },
    {
      "cell_type": "code",
      "execution_count": 133,
      "metadata": {
        "colab": {
          "base_uri": "https://localhost:8080/"
        },
        "id": "CSlnU6Gf84AB",
        "outputId": "62fa5e78-d782-41fd-c8e6-79adcac6a723"
      },
      "outputs": [
        {
          "output_type": "stream",
          "name": "stdout",
          "text": [
            "Requirement already satisfied: emoji in /usr/local/lib/python3.10/dist-packages (2.9.0)\n"
          ]
        }
      ],
      "source": [
        "!pip install emoji"
      ]
    },
    {
      "cell_type": "code",
      "execution_count": 134,
      "metadata": {
        "id": "Rd_fqt4185c1"
      },
      "outputs": [],
      "source": [
        "import csv\n",
        "import numpy as np\n",
        "import emoji\n",
        "import pandas as pd\n",
        "import matplotlib.pyplot as plt\n",
        "from sklearn.metrics import confusion_matrix\n",
        "import pandas as pd\n",
        "\n"
      ]
    },
    {
      "cell_type": "markdown",
      "metadata": {
        "id": "waMRtTLdFyRN"
      },
      "source": [
        "## Data Preprocessing and Analysis"
      ]
    },
    {
      "cell_type": "code",
      "execution_count": 135,
      "metadata": {
        "id": "U6ZO5U3g9Avh"
      },
      "outputs": [],
      "source": [
        "#code used to convert txt to csv\n",
        "def txt_to_csv(file_name):\n",
        "# Open the text file in read mode\n",
        "    with open(file_name, 'r') as file:\n",
        "        # Read the lines from the text file\n",
        "        lines = file.readlines()\n",
        "\n",
        "    # Specify the CSV file name\n",
        "    csv_file_name = 'es_label.csv'  # change here for each file\n",
        "\n",
        "\n",
        "    # Open the CSV file in write mode\n",
        "    with open(csv_file_name, 'w') as csv_file:\n",
        "        # Create a CSV writer\n",
        "        csv_writer = csv.writer(csv_file)\n",
        "\n",
        "        # Iterate through the lines and split values based on a delimiter\n",
        "        for line in lines:\n",
        "\n",
        "            values = line.strip().split('\\t')  # Example: Tab-separated values\n",
        "            csv_writer.writerow(values)\n",
        "\n",
        "def main():\n",
        "    txt_to_csv(\"trial/us_trial.text\")\n",
        "    # check\n",
        "\n",
        "#main()"
      ]
    },
    {
      "cell_type": "code",
      "execution_count": 136,
      "metadata": {
        "id": "PgxcqQmK9Xbf"
      },
      "outputs": [],
      "source": [
        "# read English data\n",
        "X = pd.read_csv(\"/content/drive/My Drive/Emoji/us_input.csv\", header = None,names = [\"sentences\"])\n",
        "Y = pd.read_csv(\"/content/drive/My Drive/Emoji/us_label.csv\", header = None,names = [\"labels\"])"
      ]
    },
    {
      "cell_type": "code",
      "execution_count": 137,
      "metadata": {
        "colab": {
          "base_uri": "https://localhost:8080/",
          "height": 424
        },
        "id": "pE0SjkJm9e6C",
        "outputId": "3a4c4e73-5519-49ef-d09f-2f2429995dbe"
      },
      "outputs": [
        {
          "output_type": "execute_result",
          "data": {
            "text/plain": [
              "                                               sentences  labels\n",
              "0      A little throwback with my favourite person @ ...       0\n",
              "1      \"glam on @user yesterday for #kcon makeup usin...       7\n",
              "2      Democracy Plaza in the wake of a stunning outc...      11\n",
              "3       Then &amp; Now. VILO @ Walt Disney Magic Kingdom       0\n",
              "4                   Who never... @ A Galaxy Far Far Away       2\n",
              "...                                                  ...     ...\n",
              "49995  My #O2otd Love this chain so much and our new ...       1\n",
              "49996  Met Santa and Olaf @ the North Pole today @ No...       0\n",
              "49997  New York by Night Strideby #HERElocationNYC......      11\n",
              "49998  Kisses for the birthday girl! @ Helzberg Diamonds       0\n",
              "49999  \"Dinner with this priceless view!Thank you, S ...       9\n",
              "\n",
              "[50000 rows x 2 columns]"
            ],
            "text/html": [
              "\n",
              "  <div id=\"df-238b8018-3d5b-4ded-abbd-5fc759373db8\" class=\"colab-df-container\">\n",
              "    <div>\n",
              "<style scoped>\n",
              "    .dataframe tbody tr th:only-of-type {\n",
              "        vertical-align: middle;\n",
              "    }\n",
              "\n",
              "    .dataframe tbody tr th {\n",
              "        vertical-align: top;\n",
              "    }\n",
              "\n",
              "    .dataframe thead th {\n",
              "        text-align: right;\n",
              "    }\n",
              "</style>\n",
              "<table border=\"1\" class=\"dataframe\">\n",
              "  <thead>\n",
              "    <tr style=\"text-align: right;\">\n",
              "      <th></th>\n",
              "      <th>sentences</th>\n",
              "      <th>labels</th>\n",
              "    </tr>\n",
              "  </thead>\n",
              "  <tbody>\n",
              "    <tr>\n",
              "      <th>0</th>\n",
              "      <td>A little throwback with my favourite person @ ...</td>\n",
              "      <td>0</td>\n",
              "    </tr>\n",
              "    <tr>\n",
              "      <th>1</th>\n",
              "      <td>\"glam on @user yesterday for #kcon makeup usin...</td>\n",
              "      <td>7</td>\n",
              "    </tr>\n",
              "    <tr>\n",
              "      <th>2</th>\n",
              "      <td>Democracy Plaza in the wake of a stunning outc...</td>\n",
              "      <td>11</td>\n",
              "    </tr>\n",
              "    <tr>\n",
              "      <th>3</th>\n",
              "      <td>Then &amp;amp; Now. VILO @ Walt Disney Magic Kingdom</td>\n",
              "      <td>0</td>\n",
              "    </tr>\n",
              "    <tr>\n",
              "      <th>4</th>\n",
              "      <td>Who never... @ A Galaxy Far Far Away</td>\n",
              "      <td>2</td>\n",
              "    </tr>\n",
              "    <tr>\n",
              "      <th>...</th>\n",
              "      <td>...</td>\n",
              "      <td>...</td>\n",
              "    </tr>\n",
              "    <tr>\n",
              "      <th>49995</th>\n",
              "      <td>My #O2otd Love this chain so much and our new ...</td>\n",
              "      <td>1</td>\n",
              "    </tr>\n",
              "    <tr>\n",
              "      <th>49996</th>\n",
              "      <td>Met Santa and Olaf @ the North Pole today @ No...</td>\n",
              "      <td>0</td>\n",
              "    </tr>\n",
              "    <tr>\n",
              "      <th>49997</th>\n",
              "      <td>New York by Night Strideby #HERElocationNYC......</td>\n",
              "      <td>11</td>\n",
              "    </tr>\n",
              "    <tr>\n",
              "      <th>49998</th>\n",
              "      <td>Kisses for the birthday girl! @ Helzberg Diamonds</td>\n",
              "      <td>0</td>\n",
              "    </tr>\n",
              "    <tr>\n",
              "      <th>49999</th>\n",
              "      <td>\"Dinner with this priceless view!Thank you, S ...</td>\n",
              "      <td>9</td>\n",
              "    </tr>\n",
              "  </tbody>\n",
              "</table>\n",
              "<p>50000 rows × 2 columns</p>\n",
              "</div>\n",
              "    <div class=\"colab-df-buttons\">\n",
              "\n",
              "  <div class=\"colab-df-container\">\n",
              "    <button class=\"colab-df-convert\" onclick=\"convertToInteractive('df-238b8018-3d5b-4ded-abbd-5fc759373db8')\"\n",
              "            title=\"Convert this dataframe to an interactive table.\"\n",
              "            style=\"display:none;\">\n",
              "\n",
              "  <svg xmlns=\"http://www.w3.org/2000/svg\" height=\"24px\" viewBox=\"0 -960 960 960\">\n",
              "    <path d=\"M120-120v-720h720v720H120Zm60-500h600v-160H180v160Zm220 220h160v-160H400v160Zm0 220h160v-160H400v160ZM180-400h160v-160H180v160Zm440 0h160v-160H620v160ZM180-180h160v-160H180v160Zm440 0h160v-160H620v160Z\"/>\n",
              "  </svg>\n",
              "    </button>\n",
              "\n",
              "  <style>\n",
              "    .colab-df-container {\n",
              "      display:flex;\n",
              "      gap: 12px;\n",
              "    }\n",
              "\n",
              "    .colab-df-convert {\n",
              "      background-color: #E8F0FE;\n",
              "      border: none;\n",
              "      border-radius: 50%;\n",
              "      cursor: pointer;\n",
              "      display: none;\n",
              "      fill: #1967D2;\n",
              "      height: 32px;\n",
              "      padding: 0 0 0 0;\n",
              "      width: 32px;\n",
              "    }\n",
              "\n",
              "    .colab-df-convert:hover {\n",
              "      background-color: #E2EBFA;\n",
              "      box-shadow: 0px 1px 2px rgba(60, 64, 67, 0.3), 0px 1px 3px 1px rgba(60, 64, 67, 0.15);\n",
              "      fill: #174EA6;\n",
              "    }\n",
              "\n",
              "    .colab-df-buttons div {\n",
              "      margin-bottom: 4px;\n",
              "    }\n",
              "\n",
              "    [theme=dark] .colab-df-convert {\n",
              "      background-color: #3B4455;\n",
              "      fill: #D2E3FC;\n",
              "    }\n",
              "\n",
              "    [theme=dark] .colab-df-convert:hover {\n",
              "      background-color: #434B5C;\n",
              "      box-shadow: 0px 1px 3px 1px rgba(0, 0, 0, 0.15);\n",
              "      filter: drop-shadow(0px 1px 2px rgba(0, 0, 0, 0.3));\n",
              "      fill: #FFFFFF;\n",
              "    }\n",
              "  </style>\n",
              "\n",
              "    <script>\n",
              "      const buttonEl =\n",
              "        document.querySelector('#df-238b8018-3d5b-4ded-abbd-5fc759373db8 button.colab-df-convert');\n",
              "      buttonEl.style.display =\n",
              "        google.colab.kernel.accessAllowed ? 'block' : 'none';\n",
              "\n",
              "      async function convertToInteractive(key) {\n",
              "        const element = document.querySelector('#df-238b8018-3d5b-4ded-abbd-5fc759373db8');\n",
              "        const dataTable =\n",
              "          await google.colab.kernel.invokeFunction('convertToInteractive',\n",
              "                                                    [key], {});\n",
              "        if (!dataTable) return;\n",
              "\n",
              "        const docLinkHtml = 'Like what you see? Visit the ' +\n",
              "          '<a target=\"_blank\" href=https://colab.research.google.com/notebooks/data_table.ipynb>data table notebook</a>'\n",
              "          + ' to learn more about interactive tables.';\n",
              "        element.innerHTML = '';\n",
              "        dataTable['output_type'] = 'display_data';\n",
              "        await google.colab.output.renderOutput(dataTable, element);\n",
              "        const docLink = document.createElement('div');\n",
              "        docLink.innerHTML = docLinkHtml;\n",
              "        element.appendChild(docLink);\n",
              "      }\n",
              "    </script>\n",
              "  </div>\n",
              "\n",
              "\n",
              "<div id=\"df-45dcd0bc-d3f4-4cb1-ae53-4162a3ecc3ed\">\n",
              "  <button class=\"colab-df-quickchart\" onclick=\"quickchart('df-45dcd0bc-d3f4-4cb1-ae53-4162a3ecc3ed')\"\n",
              "            title=\"Suggest charts\"\n",
              "            style=\"display:none;\">\n",
              "\n",
              "<svg xmlns=\"http://www.w3.org/2000/svg\" height=\"24px\"viewBox=\"0 0 24 24\"\n",
              "     width=\"24px\">\n",
              "    <g>\n",
              "        <path d=\"M19 3H5c-1.1 0-2 .9-2 2v14c0 1.1.9 2 2 2h14c1.1 0 2-.9 2-2V5c0-1.1-.9-2-2-2zM9 17H7v-7h2v7zm4 0h-2V7h2v10zm4 0h-2v-4h2v4z\"/>\n",
              "    </g>\n",
              "</svg>\n",
              "  </button>\n",
              "\n",
              "<style>\n",
              "  .colab-df-quickchart {\n",
              "      --bg-color: #E8F0FE;\n",
              "      --fill-color: #1967D2;\n",
              "      --hover-bg-color: #E2EBFA;\n",
              "      --hover-fill-color: #174EA6;\n",
              "      --disabled-fill-color: #AAA;\n",
              "      --disabled-bg-color: #DDD;\n",
              "  }\n",
              "\n",
              "  [theme=dark] .colab-df-quickchart {\n",
              "      --bg-color: #3B4455;\n",
              "      --fill-color: #D2E3FC;\n",
              "      --hover-bg-color: #434B5C;\n",
              "      --hover-fill-color: #FFFFFF;\n",
              "      --disabled-bg-color: #3B4455;\n",
              "      --disabled-fill-color: #666;\n",
              "  }\n",
              "\n",
              "  .colab-df-quickchart {\n",
              "    background-color: var(--bg-color);\n",
              "    border: none;\n",
              "    border-radius: 50%;\n",
              "    cursor: pointer;\n",
              "    display: none;\n",
              "    fill: var(--fill-color);\n",
              "    height: 32px;\n",
              "    padding: 0;\n",
              "    width: 32px;\n",
              "  }\n",
              "\n",
              "  .colab-df-quickchart:hover {\n",
              "    background-color: var(--hover-bg-color);\n",
              "    box-shadow: 0 1px 2px rgba(60, 64, 67, 0.3), 0 1px 3px 1px rgba(60, 64, 67, 0.15);\n",
              "    fill: var(--button-hover-fill-color);\n",
              "  }\n",
              "\n",
              "  .colab-df-quickchart-complete:disabled,\n",
              "  .colab-df-quickchart-complete:disabled:hover {\n",
              "    background-color: var(--disabled-bg-color);\n",
              "    fill: var(--disabled-fill-color);\n",
              "    box-shadow: none;\n",
              "  }\n",
              "\n",
              "  .colab-df-spinner {\n",
              "    border: 2px solid var(--fill-color);\n",
              "    border-color: transparent;\n",
              "    border-bottom-color: var(--fill-color);\n",
              "    animation:\n",
              "      spin 1s steps(1) infinite;\n",
              "  }\n",
              "\n",
              "  @keyframes spin {\n",
              "    0% {\n",
              "      border-color: transparent;\n",
              "      border-bottom-color: var(--fill-color);\n",
              "      border-left-color: var(--fill-color);\n",
              "    }\n",
              "    20% {\n",
              "      border-color: transparent;\n",
              "      border-left-color: var(--fill-color);\n",
              "      border-top-color: var(--fill-color);\n",
              "    }\n",
              "    30% {\n",
              "      border-color: transparent;\n",
              "      border-left-color: var(--fill-color);\n",
              "      border-top-color: var(--fill-color);\n",
              "      border-right-color: var(--fill-color);\n",
              "    }\n",
              "    40% {\n",
              "      border-color: transparent;\n",
              "      border-right-color: var(--fill-color);\n",
              "      border-top-color: var(--fill-color);\n",
              "    }\n",
              "    60% {\n",
              "      border-color: transparent;\n",
              "      border-right-color: var(--fill-color);\n",
              "    }\n",
              "    80% {\n",
              "      border-color: transparent;\n",
              "      border-right-color: var(--fill-color);\n",
              "      border-bottom-color: var(--fill-color);\n",
              "    }\n",
              "    90% {\n",
              "      border-color: transparent;\n",
              "      border-bottom-color: var(--fill-color);\n",
              "    }\n",
              "  }\n",
              "</style>\n",
              "\n",
              "  <script>\n",
              "    async function quickchart(key) {\n",
              "      const quickchartButtonEl =\n",
              "        document.querySelector('#' + key + ' button');\n",
              "      quickchartButtonEl.disabled = true;  // To prevent multiple clicks.\n",
              "      quickchartButtonEl.classList.add('colab-df-spinner');\n",
              "      try {\n",
              "        const charts = await google.colab.kernel.invokeFunction(\n",
              "            'suggestCharts', [key], {});\n",
              "      } catch (error) {\n",
              "        console.error('Error during call to suggestCharts:', error);\n",
              "      }\n",
              "      quickchartButtonEl.classList.remove('colab-df-spinner');\n",
              "      quickchartButtonEl.classList.add('colab-df-quickchart-complete');\n",
              "    }\n",
              "    (() => {\n",
              "      let quickchartButtonEl =\n",
              "        document.querySelector('#df-45dcd0bc-d3f4-4cb1-ae53-4162a3ecc3ed button');\n",
              "      quickchartButtonEl.style.display =\n",
              "        google.colab.kernel.accessAllowed ? 'block' : 'none';\n",
              "    })();\n",
              "  </script>\n",
              "</div>\n",
              "    </div>\n",
              "  </div>\n"
            ]
          },
          "metadata": {},
          "execution_count": 137
        }
      ],
      "source": [
        "df = pd.concat([X, Y], axis=1)\n",
        "df # overview of English data: 50000 rows"
      ]
    },
    {
      "cell_type": "code",
      "execution_count": 138,
      "metadata": {
        "colab": {
          "base_uri": "https://localhost:8080/"
        },
        "id": "femXhk4bBsdu",
        "outputId": "f4948545-0ed8-4b4c-a9b3-97e6b11b4201"
      },
      "outputs": [
        {
          "output_type": "execute_result",
          "data": {
            "text/plain": [
              "0     10760\n",
              "1      5279\n",
              "2      5241\n",
              "3      2885\n",
              "4      2517\n",
              "5      2317\n",
              "6      2049\n",
              "7      1894\n",
              "8      1796\n",
              "9      1671\n",
              "10     1544\n",
              "11     1528\n",
              "12     1462\n",
              "14     1377\n",
              "13     1346\n",
              "16     1306\n",
              "18     1286\n",
              "17     1279\n",
              "15     1249\n",
              "19     1214\n",
              "Name: labels, dtype: int64"
            ]
          },
          "metadata": {},
          "execution_count": 138
        }
      ],
      "source": [
        "df[\"labels\"].value_counts() # class and their counts"
      ]
    },
    {
      "cell_type": "code",
      "execution_count": 139,
      "metadata": {
        "id": "n4hxRn4aE9SY"
      },
      "outputs": [],
      "source": [
        "# read Spanish data\n",
        "X_es = pd.read_csv(\"/content/drive/My Drive/Emoji/es_input.csv\", header = None,names = [\"sentences\"])\n",
        "Y_es = pd.read_csv(\"/content/drive/My Drive/Emoji/es_label.csv\", header = None,names = [\"labels\"])"
      ]
    },
    {
      "cell_type": "code",
      "execution_count": 140,
      "metadata": {
        "colab": {
          "base_uri": "https://localhost:8080/",
          "height": 424
        },
        "id": "heiNkAF5E_VE",
        "outputId": "48ee1cb7-4ad8-4957-c0f6-e5108b0de1c6"
      },
      "outputs": [
        {
          "output_type": "execute_result",
          "data": {
            "text/plain": [
              "                                              sentences  labels\n",
              "0     Plaza de Oriente , Madrid .......#madrid #city...       9\n",
              "1     Por ser la columna de mi templo, por ser lo me...       0\n",
              "2     Me gustan las motos! #cheste2016 #nicoabad #el...       2\n",
              "3     Sevilla tiene un color especial, Sevilla tiene...      16\n",
              "4     Que (la) Chipi no se caiga .Cuánto os quiero c...       1\n",
              "...                                                 ...     ...\n",
              "9995  Los más elegantes y no hay más que hablar @ Be...       2\n",
              "9996  Luis Alberto de Cuenca.#poesía de la buena; #C...      11\n",
              "9997  La nueva #cremareafirmante de carmennavarroest...      17\n",
              "9998  Me enamoré de la manera en que me tocabas sin ...      15\n",
              "9999  Regalos que te hace tu madre de vuelta a casa ...      12\n",
              "\n",
              "[10000 rows x 2 columns]"
            ],
            "text/html": [
              "\n",
              "  <div id=\"df-7951351c-d0e1-43c4-9aa0-820123f443cc\" class=\"colab-df-container\">\n",
              "    <div>\n",
              "<style scoped>\n",
              "    .dataframe tbody tr th:only-of-type {\n",
              "        vertical-align: middle;\n",
              "    }\n",
              "\n",
              "    .dataframe tbody tr th {\n",
              "        vertical-align: top;\n",
              "    }\n",
              "\n",
              "    .dataframe thead th {\n",
              "        text-align: right;\n",
              "    }\n",
              "</style>\n",
              "<table border=\"1\" class=\"dataframe\">\n",
              "  <thead>\n",
              "    <tr style=\"text-align: right;\">\n",
              "      <th></th>\n",
              "      <th>sentences</th>\n",
              "      <th>labels</th>\n",
              "    </tr>\n",
              "  </thead>\n",
              "  <tbody>\n",
              "    <tr>\n",
              "      <th>0</th>\n",
              "      <td>Plaza de Oriente , Madrid .......#madrid #city...</td>\n",
              "      <td>9</td>\n",
              "    </tr>\n",
              "    <tr>\n",
              "      <th>1</th>\n",
              "      <td>Por ser la columna de mi templo, por ser lo me...</td>\n",
              "      <td>0</td>\n",
              "    </tr>\n",
              "    <tr>\n",
              "      <th>2</th>\n",
              "      <td>Me gustan las motos! #cheste2016 #nicoabad #el...</td>\n",
              "      <td>2</td>\n",
              "    </tr>\n",
              "    <tr>\n",
              "      <th>3</th>\n",
              "      <td>Sevilla tiene un color especial, Sevilla tiene...</td>\n",
              "      <td>16</td>\n",
              "    </tr>\n",
              "    <tr>\n",
              "      <th>4</th>\n",
              "      <td>Que (la) Chipi no se caiga .Cuánto os quiero c...</td>\n",
              "      <td>1</td>\n",
              "    </tr>\n",
              "    <tr>\n",
              "      <th>...</th>\n",
              "      <td>...</td>\n",
              "      <td>...</td>\n",
              "    </tr>\n",
              "    <tr>\n",
              "      <th>9995</th>\n",
              "      <td>Los más elegantes y no hay más que hablar @ Be...</td>\n",
              "      <td>2</td>\n",
              "    </tr>\n",
              "    <tr>\n",
              "      <th>9996</th>\n",
              "      <td>Luis Alberto de Cuenca.#poesía de la buena; #C...</td>\n",
              "      <td>11</td>\n",
              "    </tr>\n",
              "    <tr>\n",
              "      <th>9997</th>\n",
              "      <td>La nueva #cremareafirmante de carmennavarroest...</td>\n",
              "      <td>17</td>\n",
              "    </tr>\n",
              "    <tr>\n",
              "      <th>9998</th>\n",
              "      <td>Me enamoré de la manera en que me tocabas sin ...</td>\n",
              "      <td>15</td>\n",
              "    </tr>\n",
              "    <tr>\n",
              "      <th>9999</th>\n",
              "      <td>Regalos que te hace tu madre de vuelta a casa ...</td>\n",
              "      <td>12</td>\n",
              "    </tr>\n",
              "  </tbody>\n",
              "</table>\n",
              "<p>10000 rows × 2 columns</p>\n",
              "</div>\n",
              "    <div class=\"colab-df-buttons\">\n",
              "\n",
              "  <div class=\"colab-df-container\">\n",
              "    <button class=\"colab-df-convert\" onclick=\"convertToInteractive('df-7951351c-d0e1-43c4-9aa0-820123f443cc')\"\n",
              "            title=\"Convert this dataframe to an interactive table.\"\n",
              "            style=\"display:none;\">\n",
              "\n",
              "  <svg xmlns=\"http://www.w3.org/2000/svg\" height=\"24px\" viewBox=\"0 -960 960 960\">\n",
              "    <path d=\"M120-120v-720h720v720H120Zm60-500h600v-160H180v160Zm220 220h160v-160H400v160Zm0 220h160v-160H400v160ZM180-400h160v-160H180v160Zm440 0h160v-160H620v160ZM180-180h160v-160H180v160Zm440 0h160v-160H620v160Z\"/>\n",
              "  </svg>\n",
              "    </button>\n",
              "\n",
              "  <style>\n",
              "    .colab-df-container {\n",
              "      display:flex;\n",
              "      gap: 12px;\n",
              "    }\n",
              "\n",
              "    .colab-df-convert {\n",
              "      background-color: #E8F0FE;\n",
              "      border: none;\n",
              "      border-radius: 50%;\n",
              "      cursor: pointer;\n",
              "      display: none;\n",
              "      fill: #1967D2;\n",
              "      height: 32px;\n",
              "      padding: 0 0 0 0;\n",
              "      width: 32px;\n",
              "    }\n",
              "\n",
              "    .colab-df-convert:hover {\n",
              "      background-color: #E2EBFA;\n",
              "      box-shadow: 0px 1px 2px rgba(60, 64, 67, 0.3), 0px 1px 3px 1px rgba(60, 64, 67, 0.15);\n",
              "      fill: #174EA6;\n",
              "    }\n",
              "\n",
              "    .colab-df-buttons div {\n",
              "      margin-bottom: 4px;\n",
              "    }\n",
              "\n",
              "    [theme=dark] .colab-df-convert {\n",
              "      background-color: #3B4455;\n",
              "      fill: #D2E3FC;\n",
              "    }\n",
              "\n",
              "    [theme=dark] .colab-df-convert:hover {\n",
              "      background-color: #434B5C;\n",
              "      box-shadow: 0px 1px 3px 1px rgba(0, 0, 0, 0.15);\n",
              "      filter: drop-shadow(0px 1px 2px rgba(0, 0, 0, 0.3));\n",
              "      fill: #FFFFFF;\n",
              "    }\n",
              "  </style>\n",
              "\n",
              "    <script>\n",
              "      const buttonEl =\n",
              "        document.querySelector('#df-7951351c-d0e1-43c4-9aa0-820123f443cc button.colab-df-convert');\n",
              "      buttonEl.style.display =\n",
              "        google.colab.kernel.accessAllowed ? 'block' : 'none';\n",
              "\n",
              "      async function convertToInteractive(key) {\n",
              "        const element = document.querySelector('#df-7951351c-d0e1-43c4-9aa0-820123f443cc');\n",
              "        const dataTable =\n",
              "          await google.colab.kernel.invokeFunction('convertToInteractive',\n",
              "                                                    [key], {});\n",
              "        if (!dataTable) return;\n",
              "\n",
              "        const docLinkHtml = 'Like what you see? Visit the ' +\n",
              "          '<a target=\"_blank\" href=https://colab.research.google.com/notebooks/data_table.ipynb>data table notebook</a>'\n",
              "          + ' to learn more about interactive tables.';\n",
              "        element.innerHTML = '';\n",
              "        dataTable['output_type'] = 'display_data';\n",
              "        await google.colab.output.renderOutput(dataTable, element);\n",
              "        const docLink = document.createElement('div');\n",
              "        docLink.innerHTML = docLinkHtml;\n",
              "        element.appendChild(docLink);\n",
              "      }\n",
              "    </script>\n",
              "  </div>\n",
              "\n",
              "\n",
              "<div id=\"df-51cad334-1eee-4403-a49c-d47395fef619\">\n",
              "  <button class=\"colab-df-quickchart\" onclick=\"quickchart('df-51cad334-1eee-4403-a49c-d47395fef619')\"\n",
              "            title=\"Suggest charts\"\n",
              "            style=\"display:none;\">\n",
              "\n",
              "<svg xmlns=\"http://www.w3.org/2000/svg\" height=\"24px\"viewBox=\"0 0 24 24\"\n",
              "     width=\"24px\">\n",
              "    <g>\n",
              "        <path d=\"M19 3H5c-1.1 0-2 .9-2 2v14c0 1.1.9 2 2 2h14c1.1 0 2-.9 2-2V5c0-1.1-.9-2-2-2zM9 17H7v-7h2v7zm4 0h-2V7h2v10zm4 0h-2v-4h2v4z\"/>\n",
              "    </g>\n",
              "</svg>\n",
              "  </button>\n",
              "\n",
              "<style>\n",
              "  .colab-df-quickchart {\n",
              "      --bg-color: #E8F0FE;\n",
              "      --fill-color: #1967D2;\n",
              "      --hover-bg-color: #E2EBFA;\n",
              "      --hover-fill-color: #174EA6;\n",
              "      --disabled-fill-color: #AAA;\n",
              "      --disabled-bg-color: #DDD;\n",
              "  }\n",
              "\n",
              "  [theme=dark] .colab-df-quickchart {\n",
              "      --bg-color: #3B4455;\n",
              "      --fill-color: #D2E3FC;\n",
              "      --hover-bg-color: #434B5C;\n",
              "      --hover-fill-color: #FFFFFF;\n",
              "      --disabled-bg-color: #3B4455;\n",
              "      --disabled-fill-color: #666;\n",
              "  }\n",
              "\n",
              "  .colab-df-quickchart {\n",
              "    background-color: var(--bg-color);\n",
              "    border: none;\n",
              "    border-radius: 50%;\n",
              "    cursor: pointer;\n",
              "    display: none;\n",
              "    fill: var(--fill-color);\n",
              "    height: 32px;\n",
              "    padding: 0;\n",
              "    width: 32px;\n",
              "  }\n",
              "\n",
              "  .colab-df-quickchart:hover {\n",
              "    background-color: var(--hover-bg-color);\n",
              "    box-shadow: 0 1px 2px rgba(60, 64, 67, 0.3), 0 1px 3px 1px rgba(60, 64, 67, 0.15);\n",
              "    fill: var(--button-hover-fill-color);\n",
              "  }\n",
              "\n",
              "  .colab-df-quickchart-complete:disabled,\n",
              "  .colab-df-quickchart-complete:disabled:hover {\n",
              "    background-color: var(--disabled-bg-color);\n",
              "    fill: var(--disabled-fill-color);\n",
              "    box-shadow: none;\n",
              "  }\n",
              "\n",
              "  .colab-df-spinner {\n",
              "    border: 2px solid var(--fill-color);\n",
              "    border-color: transparent;\n",
              "    border-bottom-color: var(--fill-color);\n",
              "    animation:\n",
              "      spin 1s steps(1) infinite;\n",
              "  }\n",
              "\n",
              "  @keyframes spin {\n",
              "    0% {\n",
              "      border-color: transparent;\n",
              "      border-bottom-color: var(--fill-color);\n",
              "      border-left-color: var(--fill-color);\n",
              "    }\n",
              "    20% {\n",
              "      border-color: transparent;\n",
              "      border-left-color: var(--fill-color);\n",
              "      border-top-color: var(--fill-color);\n",
              "    }\n",
              "    30% {\n",
              "      border-color: transparent;\n",
              "      border-left-color: var(--fill-color);\n",
              "      border-top-color: var(--fill-color);\n",
              "      border-right-color: var(--fill-color);\n",
              "    }\n",
              "    40% {\n",
              "      border-color: transparent;\n",
              "      border-right-color: var(--fill-color);\n",
              "      border-top-color: var(--fill-color);\n",
              "    }\n",
              "    60% {\n",
              "      border-color: transparent;\n",
              "      border-right-color: var(--fill-color);\n",
              "    }\n",
              "    80% {\n",
              "      border-color: transparent;\n",
              "      border-right-color: var(--fill-color);\n",
              "      border-bottom-color: var(--fill-color);\n",
              "    }\n",
              "    90% {\n",
              "      border-color: transparent;\n",
              "      border-bottom-color: var(--fill-color);\n",
              "    }\n",
              "  }\n",
              "</style>\n",
              "\n",
              "  <script>\n",
              "    async function quickchart(key) {\n",
              "      const quickchartButtonEl =\n",
              "        document.querySelector('#' + key + ' button');\n",
              "      quickchartButtonEl.disabled = true;  // To prevent multiple clicks.\n",
              "      quickchartButtonEl.classList.add('colab-df-spinner');\n",
              "      try {\n",
              "        const charts = await google.colab.kernel.invokeFunction(\n",
              "            'suggestCharts', [key], {});\n",
              "      } catch (error) {\n",
              "        console.error('Error during call to suggestCharts:', error);\n",
              "      }\n",
              "      quickchartButtonEl.classList.remove('colab-df-spinner');\n",
              "      quickchartButtonEl.classList.add('colab-df-quickchart-complete');\n",
              "    }\n",
              "    (() => {\n",
              "      let quickchartButtonEl =\n",
              "        document.querySelector('#df-51cad334-1eee-4403-a49c-d47395fef619 button');\n",
              "      quickchartButtonEl.style.display =\n",
              "        google.colab.kernel.accessAllowed ? 'block' : 'none';\n",
              "    })();\n",
              "  </script>\n",
              "</div>\n",
              "    </div>\n",
              "  </div>\n"
            ]
          },
          "metadata": {},
          "execution_count": 140
        }
      ],
      "source": [
        "df_es = pd.concat([X_es, Y_es], axis=1)\n",
        "df_es #overview of spanish data: 10000 rows"
      ]
    },
    {
      "cell_type": "code",
      "execution_count": 141,
      "metadata": {
        "colab": {
          "base_uri": "https://localhost:8080/"
        },
        "id": "RLrdYpQBFcpD",
        "outputId": "5d6014a4-4585-4a72-adca-0fef0e377ba7"
      },
      "outputs": [
        {
          "output_type": "execute_result",
          "data": {
            "text/plain": [
              "0     2028\n",
              "1     1363\n",
              "2      970\n",
              "3      705\n",
              "4      645\n",
              "5      415\n",
              "7      386\n",
              "9      369\n",
              "6      367\n",
              "8      320\n",
              "12     313\n",
              "14     282\n",
              "13     281\n",
              "11     271\n",
              "10     267\n",
              "16     262\n",
              "17     260\n",
              "18     252\n",
              "15     244\n",
              "Name: labels, dtype: int64"
            ]
          },
          "metadata": {},
          "execution_count": 141
        }
      ],
      "source": [
        "df_es[\"labels\"].value_counts()"
      ]
    },
    {
      "cell_type": "code",
      "execution_count": 142,
      "metadata": {
        "id": "7kblT0baFe1w"
      },
      "outputs": [],
      "source": [
        "# with language specified, convert emoji to their class label\n",
        "def label_to_emoji(label,language):\n",
        "  if language == \"english\":\n",
        "    with open(\"/content/drive/My Drive/Emoji/mapping/us_mapping.txt\", 'r', encoding='utf-8') as file:\n",
        "      emoji_dict = {int(line.split('\\t')[0]): line.split('\\t')[1] for line in file}\n",
        "  elif language == \"spanish\":\n",
        "      with open(\"/content/drive/My Drive/Emoji/mapping/es_mapping.txt\", 'r', encoding='utf-8') as file:\n",
        "        emoji_dict = {int(line.split('\\t')[0]): line.split('\\t')[1] for line in file}\n",
        "  return emoji_dict[label]"
      ]
    },
    {
      "cell_type": "code",
      "execution_count": 143,
      "metadata": {
        "colab": {
          "base_uri": "https://localhost:8080/"
        },
        "id": "U3kV5Yi1FjJq",
        "outputId": "80e3d13d-742b-4537-a419-5a692dd5ec62"
      },
      "outputs": [
        {
          "output_type": "stream",
          "name": "stdout",
          "text": [
            "\"Birthday Kisses @ Madison, Wisconsin\" 😘\n"
          ]
        }
      ],
      "source": [
        "# checking if label_to_emoji works as expected\n",
        "index = 9\n",
        "print(df.loc[index, 'sentences'],label_to_emoji(index,\"english\"))"
      ]
    },
    {
      "cell_type": "code",
      "execution_count": 144,
      "metadata": {
        "colab": {
          "base_uri": "https://localhost:8080/"
        },
        "id": "36DyckRKFjvq",
        "outputId": "43b78549-e601-4b02-c897-0f4f8fe0fbc4"
      },
      "outputs": [
        {
          "output_type": "stream",
          "name": "stdout",
          "text": [
            "Cerrando el Ayuntamiento (@ Ayuntamiento de San Sebastián de los Reyes in San Sebastián de los Reyes, Madrid) 🇪🇸\n"
          ]
        }
      ],
      "source": [
        "index = 9\n",
        "print(df_es.loc[index, 'sentences'],label_to_emoji(index,\"spanish\"))"
      ]
    },
    {
      "cell_type": "code",
      "execution_count": 145,
      "metadata": {
        "colab": {
          "base_uri": "https://localhost:8080/",
          "height": 873
        },
        "id": "8frlE_p7FmAj",
        "outputId": "1a18483b-f6ea-4474-ac60-6854a3367423"
      },
      "outputs": [
        {
          "output_type": "stream",
          "name": "stdout",
          "text": [
            "    Class  Count Emoji  Proportion\n",
            "0       0  10760     ❤     0.21520\n",
            "1       1   5279     😍     0.10558\n",
            "2       2   5241     😂     0.10482\n",
            "3       3   2885     💕     0.05770\n",
            "4       4   2517     🔥     0.05034\n",
            "5       5   2317     😊     0.04634\n",
            "6       6   2049     😎     0.04098\n",
            "7       7   1894     ✨     0.03788\n",
            "8       8   1796     💙     0.03592\n",
            "9       9   1671     😘     0.03342\n",
            "10     10   1544     📷     0.03088\n",
            "11     11   1528    🇺🇸     0.03056\n",
            "12     12   1462     ☀     0.02924\n",
            "13     14   1377     😉     0.02754\n",
            "14     13   1346     💜     0.02692\n",
            "15     16   1306     😁     0.02612\n",
            "16     18   1286     📸     0.02572\n",
            "17     17   1279     🎄     0.02558\n",
            "18     15   1249     💯     0.02498\n",
            "19     19   1214     😜     0.02428\n"
          ]
        },
        {
          "output_type": "execute_result",
          "data": {
            "text/plain": [
              "Text(0, 0.5, 'Count')"
            ]
          },
          "metadata": {},
          "execution_count": 145
        },
        {
          "output_type": "display_data",
          "data": {
            "text/plain": [
              "<Figure size 640x480 with 1 Axes>"
            ],
            "image/png": "[encoded data removed]"
          },
          "metadata": {}
        }
      ],
      "source": [
        "### get the ditribution of English emoji\n",
        "label_counts = df[\"labels\"].value_counts()\n",
        "distribution_table = pd.DataFrame(label_counts.reset_index())\n",
        "distribution_table.columns = [\"Class\", \"Count\"]\n",
        "\n",
        "# Calculate the proportion\n",
        "distribution_table[\"Emoji\"] = distribution_table[\"Class\"].apply(lambda label: label_to_emoji(label, \"english\"))\n",
        "distribution_table[\"Proportion\"] = distribution_table[\"Count\"] / distribution_table[\"Count\"].sum()\n",
        "# Display the distribution table\n",
        "print(distribution_table)\n",
        "\n",
        "plt.bar(distribution_table[\"Class\"], distribution_table[\"Count\"], color='skyblue')\n",
        "# Set the title and labels\n",
        "plt.title('Distribution of Emoji Classes in English tweets')\n",
        "plt.xticks(distribution_table[\"Class\"], rotation=45, ha=\"right\")\n",
        "plt.xlabel('Emoji')\n",
        "plt.ylabel('Count')"
      ]
    },
    {
      "cell_type": "code",
      "execution_count": 146,
      "metadata": {
        "colab": {
          "base_uri": "https://localhost:8080/",
          "height": 855
        },
        "id": "x9AO9QN1F2pg",
        "outputId": "d36b5b7e-c738-4aa7-b2a4-e6d7375e5dc4"
      },
      "outputs": [
        {
          "output_type": "stream",
          "name": "stdout",
          "text": [
            "    Class  Count Emoji  Proportion\n",
            "0       0   2028     ❤      0.2028\n",
            "1       1   1363     😍      0.1363\n",
            "2       2    970     😂      0.0970\n",
            "3       3    705     💕      0.0705\n",
            "4       4    645     😊      0.0645\n",
            "5       5    415     😘      0.0415\n",
            "6       7    386     😉      0.0386\n",
            "7       9    369    🇪🇸      0.0369\n",
            "8       6    367     💪      0.0367\n",
            "9       8    320     👌      0.0320\n",
            "10     12    313     💜      0.0313\n",
            "11     14    282     💞      0.0282\n",
            "12     13    281     😜      0.0281\n",
            "13     11    271     💙      0.0271\n",
            "14     10    267     😎      0.0267\n",
            "15     16    262     🎶      0.0262\n",
            "16     17    260     💘      0.0260\n",
            "17     18    252     😁      0.0252\n",
            "18     15    244     ✨      0.0244\n"
          ]
        },
        {
          "output_type": "execute_result",
          "data": {
            "text/plain": [
              "Text(0, 0.5, 'Count')"
            ]
          },
          "metadata": {},
          "execution_count": 146
        },
        {
          "output_type": "display_data",
          "data": {
            "text/plain": [
              "<Figure size 640x480 with 1 Axes>"
            ],
            "image/png": "[encoded data removed]"
          },
          "metadata": {}
        }
      ],
      "source": [
        "### get the ditribution of Spanish emoji\n",
        "label_counts = df_es[\"labels\"].value_counts()\n",
        "distribution_table = pd.DataFrame(label_counts.reset_index())\n",
        "distribution_table.columns = [\"Class\", \"Count\"]\n",
        "\n",
        "# Calculate the proportion\n",
        "distribution_table[\"Emoji\"] = distribution_table[\"Class\"].apply(lambda label: label_to_emoji(label, \"spanish\"))\n",
        "distribution_table[\"Proportion\"] = distribution_table[\"Count\"] / distribution_table[\"Count\"].sum()\n",
        "# Display the distribution table\n",
        "print(distribution_table)\n",
        "\n",
        "plt.bar(distribution_table[\"Class\"], distribution_table[\"Count\"], color='skyblue')\n",
        "# Set the title and labels\n",
        "plt.title('Distribution of Emoji Classes in Spanish tweets')\n",
        "plt.xticks(distribution_table[\"Class\"], rotation=45, ha=\"right\")\n",
        "\n",
        "plt.xlabel('Emoji')\n",
        "plt.ylabel('Count')"
      ]
    },
    {
      "cell_type": "code",
      "execution_count": 147,
      "metadata": {
        "colab": {
          "base_uri": "https://localhost:8080/"
        },
        "id": "Qyr4H2YqF6Yq",
        "outputId": "252e9a16-b2b7-499d-d6c1-9414fba9b02e"
      },
      "outputs": [
        {
          "output_type": "execute_result",
          "data": {
            "text/plain": [
              "array(['Plaza de Oriente  Madrid madrid city plazadeoriente puertadesol tour…',\n",
              "       'Por ser la columna de mi templo por ser lo mejor que tengo  Parquesur',\n",
              "       'Me gustan las motos! cheste2016 nicoabad elañoquevienemás user',\n",
              "       ...,\n",
              "       'La nueva cremareafirmante de carmennavarroestetica  sencillamente maravillosa Su activo…',\n",
              "       'Me enamoré de la manera en que me tocabas sin utilizar tus manos user',\n",
              "       'Regalos que te hace tu madre de vuelta a casa que hace que la ame aún más  Villarrobledo'],\n",
              "      dtype='<U136')"
            ]
          },
          "metadata": {},
          "execution_count": 147
        }
      ],
      "source": [
        "# clearn tweets data\n",
        "def remove_specials(string_list):\n",
        "    # Define a translation table to remove special characters\n",
        "    translation_table = str.maketrans('', '', '@#$%^&*()_-+=<>,./:;\"\\'{}[]|`~')\n",
        "\n",
        "    # Use translate to remove special characters from each string in the list\n",
        "    cleaned_list = [s.translate(translation_table) for s in string_list]\n",
        "\n",
        "    return cleaned_list\n",
        "\n",
        "\n",
        "X = np.asarray(remove_specials(df[\"sentences\"].tolist()))\n",
        "X_es = np.asarray(remove_specials(df_es[\"sentences\"].tolist()))\n",
        "X_es"
      ]
    },
    {
      "cell_type": "code",
      "execution_count": 148,
      "metadata": {
        "colab": {
          "base_uri": "https://localhost:8080/"
        },
        "id": "5MPenuLfF_SK",
        "outputId": "0ef2baf5-3325-49ff-cbc4-3647fc13231f"
      },
      "outputs": [
        {
          "output_type": "execute_result",
          "data": {
            "text/plain": [
              "array(['A little throwback with my favourite person  Water Wall',\n",
              "       'glam on user yesterday for kcon makeup using user in featherette…',\n",
              "       'Democracy Plaza in the wake of a stunning outcome Decision2016  NBC News',\n",
              "       ...,\n",
              "       'New York by Night Strideby HERElocationNYC seemycity guardiancities…',\n",
              "       'Kisses for the birthday girl!  Helzberg Diamonds',\n",
              "       'Dinner with this priceless view!Thank you S anniversarydinner columbuscircle august23rd…'],\n",
              "      dtype='<U139')"
            ]
          },
          "metadata": {},
          "execution_count": 148
        }
      ],
      "source": [
        "X"
      ]
    },
    {
      "cell_type": "code",
      "execution_count": 149,
      "metadata": {
        "id": "jrzYufdQGCTX"
      },
      "outputs": [],
      "source": [
        "# split data into training and test sets\n",
        "from sklearn.model_selection import train_test_split\n",
        "X_train, X_test, Y_train, Y_test = train_test_split(X,Y,test_size = 0.3, random_state = 1234)\n",
        "X_train_es, X_test_es, Y_train_es, Y_test_es = train_test_split(X_es,Y_es,test_size = 0.3, random_state = 1234)"
      ]
    },
    {
      "cell_type": "code",
      "execution_count": 150,
      "metadata": {
        "colab": {
          "base_uri": "https://localhost:8080/"
        },
        "id": "IRPS5Fi0GGo8",
        "outputId": "7d25b12f-9bd0-4832-917d-fbe6c12e58e4"
      },
      "outputs": [
        {
          "output_type": "execute_result",
          "data": {
            "text/plain": [
              "35000"
            ]
          },
          "metadata": {},
          "execution_count": 150
        }
      ],
      "source": [
        "len(X_train)"
      ]
    },
    {
      "cell_type": "code",
      "execution_count": 151,
      "metadata": {
        "colab": {
          "base_uri": "https://localhost:8080/"
        },
        "id": "hElzSm74GLCx",
        "outputId": "21ae738d-7ee3-40c9-d482-65bacb8dc10d"
      },
      "outputs": [
        {
          "output_type": "execute_result",
          "data": {
            "text/plain": [
              "7000"
            ]
          },
          "metadata": {},
          "execution_count": 151
        }
      ],
      "source": [
        "len(X_train_es)"
      ]
    },
    {
      "cell_type": "code",
      "execution_count": 152,
      "metadata": {
        "id": "1pa9cCc4GgjP"
      },
      "outputs": [],
      "source": [
        "# get the list of classes\n",
        "Y_labels = Y_train.values\n",
        "#\n",
        "type(Y_labels)\n",
        "\n",
        "Y_labels_es = Y_train_es.values"
      ]
    },
    {
      "cell_type": "code",
      "execution_count": 153,
      "metadata": {
        "id": "w0PezNhlGVYs"
      },
      "outputs": [],
      "source": [
        "# one hot encoding get our labels into a format suitable for training a softmax classifier\n",
        "def convert_to_one_hot(Y, C):\n",
        "    Y = np.eye(C)[Y.reshape(-1)]\n",
        "    return Y"
      ]
    },
    {
      "cell_type": "code",
      "execution_count": 154,
      "metadata": {
        "colab": {
          "base_uri": "https://localhost:8080/"
        },
        "id": "ics79UJlGjAC",
        "outputId": "216f9f38-dda1-4e29-bfda-a9b656609166"
      },
      "outputs": [
        {
          "output_type": "execute_result",
          "data": {
            "text/plain": [
              "array([[0., 1., 0., ..., 0., 0., 0.],\n",
              "       [0., 0., 0., ..., 0., 1., 0.],\n",
              "       [1., 0., 0., ..., 0., 0., 0.],\n",
              "       ...,\n",
              "       [1., 0., 0., ..., 0., 0., 0.],\n",
              "       [1., 0., 0., ..., 0., 0., 0.],\n",
              "       [0., 0., 0., ..., 0., 0., 0.]])"
            ]
          },
          "metadata": {},
          "execution_count": 154
        }
      ],
      "source": [
        "#test the function\n",
        "Y_oh_train = convert_to_one_hot(Y_labels, C = 20)\n",
        "Y_oh_train\n"
      ]
    },
    {
      "cell_type": "markdown",
      "metadata": {
        "id": "MARW5HykGRH1"
      },
      "source": [
        "## Baseline Modle"
      ]
    },
    {
      "cell_type": "markdown",
      "metadata": {
        "id": "EtY7J2ogI-zf"
      },
      "source": [
        "## Glove Embedding\n",
        "\n",
        "\n"
      ]
    },
    {
      "cell_type": "code",
      "execution_count": 155,
      "metadata": {
        "id": "rRjthJb4Eyj2"
      },
      "outputs": [],
      "source": [
        "#create glove embedding\n",
        "def read_glove_vecs(glove_file):\n",
        "    with open(glove_file, 'r',encoding='utf-8') as f:\n",
        "        words = set()\n",
        "        word_to_vec_map = {}\n",
        "        for line in f:\n",
        "            line = line.strip().split()\n",
        "            curr_word = line[0]\n",
        "            words.add(curr_word)\n",
        "            word_to_vec_map[curr_word] = np.array(line[1:], dtype=np.float64)\n",
        "\n",
        "        i = 1\n",
        "        words_to_index = {}\n",
        "        index_to_words = {}\n",
        "        for w in sorted(words):\n",
        "            words_to_index[w] = i\n",
        "            index_to_words[i] = w\n",
        "            i = i + 1\n",
        "    return words_to_index, index_to_words, word_to_vec_map\n"
      ]
    },
    {
      "cell_type": "code",
      "execution_count": 156,
      "metadata": {
        "id": "xuzZYlvuFrR-"
      },
      "outputs": [],
      "source": [
        "word_to_index, index_to_words, word_to_vec_map = read_glove_vecs(\"/content/drive/My Drive/Emoji/glove.6B.50d.txt\")"
      ]
    },
    {
      "cell_type": "code",
      "execution_count": 157,
      "metadata": {
        "colab": {
          "base_uri": "https://localhost:8080/"
        },
        "id": "dEEJnZ-aG6N4",
        "outputId": "19c014b9-3265-47a0-f64f-2805621688a6"
      },
      "outputs": [
        {
          "output_type": "stream",
          "name": "stdout",
          "text": [
            "the index of arena in the vocabulary is 59030\n",
            "the 289846th word in the vocabulary is potatos\n"
          ]
        }
      ],
      "source": [
        "### check read_glove_vecs\n",
        "word = \"arena\" #spanish\n",
        "index = 289846\n",
        "print(\"the index of\", word, \"in the vocabulary is\", word_to_index[word])\n",
        "print(\"the\", str(index) + \"th word in the vocabulary is\", index_to_words[index])"
      ]
    },
    {
      "cell_type": "markdown",
      "metadata": {
        "id": "sIHXIgwsHERN"
      },
      "source": [
        "## Average the vectors"
      ]
    },
    {
      "cell_type": "code",
      "execution_count": 158,
      "metadata": {
        "id": "2KLLUJU7HCiv"
      },
      "outputs": [],
      "source": [
        "# average the vectors of words\n",
        "def sentence_to_avg(sentence, word_to_vec_map):\n",
        "    words = sentence.lower().split()\n",
        "    avg = np.zeros(50,) # we are using 50d glove\n",
        "    for w in words:\n",
        "      if w in word_to_vec_map:\n",
        "        avg += word_to_vec_map[w]\n",
        "    avg = np.divide(avg, len(words) if len(words) != 0 else 1)  # Avoid division by zero\n",
        "\n",
        "\n",
        "    return avg"
      ]
    },
    {
      "cell_type": "code",
      "execution_count": 159,
      "metadata": {
        "colab": {
          "base_uri": "https://localhost:8080/"
        },
        "id": "M1QGb8GtHIYH",
        "outputId": "5ff0556f-fb8d-4385-9081-3f6be7064d93"
      },
      "outputs": [
        {
          "output_type": "stream",
          "name": "stdout",
          "text": [
            "avg =  [-0.008005    0.56370833 -0.50427333  0.258865    0.55131103  0.03104983\n",
            " -0.21013718  0.16893933 -0.09590267  0.141784   -0.15708967  0.18525867\n",
            "  0.6495785   0.38371117  0.21102167  0.11301667  0.02613967  0.26037767\n",
            "  0.05820667 -0.01578167 -0.12078833 -0.02471267  0.4128455   0.5152061\n",
            "  0.38756167 -0.898661   -0.535145    0.33501167  0.68806933 -0.2156265\n",
            "  1.797155    0.10476933 -0.36775333  0.750785    0.10282583  0.348925\n",
            " -0.27262833  0.66768    -0.10706167 -0.283635    0.59580117  0.28747333\n",
            " -0.3366635   0.23393817  0.34349183  0.178405    0.1166155  -0.076433\n",
            "  0.1445417   0.09808667]\n"
          ]
        }
      ],
      "source": [
        "# check if correct\n",
        "avg = sentence_to_avg(\"Morrocan couscous is my favorite dish\", word_to_vec_map)\n",
        "print(\"avg = \", avg)"
      ]
    },
    {
      "cell_type": "code",
      "execution_count": 160,
      "metadata": {
        "colab": {
          "base_uri": "https://localhost:8080/"
        },
        "id": "3vCIiPhXHPCv",
        "outputId": "3b894234-7989-40aa-b326-2bffb4c3c849"
      },
      "outputs": [
        {
          "output_type": "stream",
          "name": "stdout",
          "text": [
            "avg =  [ 0.10776556  0.52304267 -0.29983011  0.46476333 -0.48791578 -0.34248667\n",
            "  0.20874111 -0.24642276 -0.56905667  0.42724789 -0.00923933  0.10713622\n",
            " -0.12875689 -0.33490556  0.16785241 -0.46787056 -0.141396    0.16908556\n",
            "  0.33257033  0.18206267 -0.74755889  0.07346444  0.03012889 -0.09784933\n",
            "  0.10277844 -0.23934222 -0.48285     0.43541889  0.54816956 -0.42833367\n",
            "  0.97089444 -0.07536244 -0.47807989  0.39148    -0.09978456 -0.47255311\n",
            "  0.53525889 -0.25252312  0.29166111  0.53998633  0.06478722 -0.16280766\n",
            "  0.38045556 -0.45172    -0.13848044 -0.69556556 -0.31974367 -0.00706556\n",
            "  0.77000111  0.86839556]\n"
          ]
        }
      ],
      "source": [
        "avg = sentence_to_avg(\"Si no sabes explicarlo es porque merece la pena\", word_to_vec_map)\n",
        "print(\"avg = \", avg)"
      ]
    },
    {
      "cell_type": "markdown",
      "metadata": {
        "id": "qzg13mL_J3Vi"
      },
      "source": [
        "## Build the model layers"
      ]
    },
    {
      "cell_type": "code",
      "execution_count": 161,
      "metadata": {
        "id": "guGvfi01OXdr"
      },
      "outputs": [],
      "source": [
        "def softmax(x):\n",
        "    e_x = np.exp(x - np.max(x))\n",
        "    return e_x / e_x.sum()\n"
      ]
    },
    {
      "cell_type": "code",
      "execution_count": 162,
      "metadata": {
        "id": "vtE_ZpY4Vb6S"
      },
      "outputs": [],
      "source": [
        "def model(X, Y, word_to_vec_map, learning_rate=0.01, num_iterations=1000):\n",
        "    \"\"\"\n",
        "    return：\n",
        "        pred -- dim(m, 1)。\n",
        "        W -- dim(n_y, n_h)。\n",
        "        b -- dim(n_y,)\n",
        "    \"\"\"\n",
        "    np.random.seed(100)\n",
        "\n",
        "\n",
        "    m = Y.shape[0]\n",
        "    # we have 20 classes\n",
        "    n_y =20\n",
        "    # match with the pretrained word embedding vector dimension 50\n",
        "    n_h = 50\n",
        "\n",
        "\n",
        "    W = np.random.randn(n_y, n_h) / np.sqrt(n_h)\n",
        "    b = np.zeros((n_y,))\n",
        "\n",
        "    Y_oh = convert_to_one_hot(Y, C=n_y)\n",
        "\n",
        "\n",
        "    for t in range(num_iterations):\n",
        "        for i in range(m):\n",
        "\n",
        "            avg = sentence_to_avg(X[i], word_to_vec_map)\n",
        "\n",
        "\n",
        "            z = np.dot(W, avg) + b\n",
        "            a = softmax(z)\n",
        "\n",
        "            cost = -np.sum(Y_oh[i]*np.log(a))\n",
        "\n",
        "            # gradient\n",
        "            dz = a - Y_oh[i]\n",
        "            dW = np.dot(dz.reshape(n_y,1), avg.reshape(1, n_h))\n",
        "            db = dz\n",
        "\n",
        "            # update params\n",
        "            W = W - learning_rate * dW\n",
        "            b = b - learning_rate * db\n",
        "        if t % 100 == 0:\n",
        "            print(\"Epoch {t}，loss is {cost}\".format(t=t,cost=cost))\n",
        "            pred = predict(X, Y, W, b, word_to_vec_map)\n",
        "\n",
        "    return pred, W, b\n"
      ]
    },
    {
      "cell_type": "code",
      "execution_count": 163,
      "metadata": {
        "id": "c8Nlu1P5PEoK"
      },
      "outputs": [],
      "source": [
        "def predict(X, Y, W, b, word_to_vec_map):\n",
        "    \"\"\"\n",
        "    arguments:\n",
        "    X -- input data containing sentences, numpy array of shape (m, None)\n",
        "    Y -- labels, containing index of the label emoji, numpy array of shape (m, 1)\n",
        "\n",
        "    returns:\n",
        "    pred -- numpy array of shape (m, 1) with predictions\n",
        "    \"\"\"\n",
        "    m = X.shape[0]\n",
        "    pred = np.zeros((m, 1))\n",
        "\n",
        "    for i in range(m):\n",
        "        avg = sentence_to_avg(X[i], word_to_vec_map)\n",
        "\n",
        "        # Forward propagation\n",
        "        Z = np.dot(W, avg) + b\n",
        "        A = softmax(Z)\n",
        "        pred[i] = np.argmax(A)\n",
        "\n",
        "    print(\"Accuracy: \"  + str(np.mean((pred[:] == Y.reshape(Y.shape[0],1)[:]))))\n",
        "\n",
        "    return pred"
      ]
    },
    {
      "cell_type": "markdown",
      "metadata": {
        "id": "m6TxH1SSKApt"
      },
      "source": [
        "## Small Example"
      ]
    },
    {
      "cell_type": "code",
      "execution_count": 164,
      "metadata": {
        "colab": {
          "base_uri": "https://localhost:8080/"
        },
        "id": "KOcCs25aRZBL",
        "outputId": "f0199246-505c-4eb7-8fa3-586c7989bcef"
      },
      "outputs": [
        {
          "output_type": "stream",
          "name": "stdout",
          "text": [
            "(20,)\n"
          ]
        }
      ],
      "source": [
        "# creating a small example\n",
        "Y_small = np.asarray([5,0,0,5, 4, 4, 4, 6, 6, 4, 1, 1, 5, 6, 6, 3, 6, 3, 4, 4])\n",
        "print(Y_small.shape)\n",
        "\n",
        "X_small = np.asarray(['I am going to the bar tonight', 'I love you', 'miss you my dear',\n",
        " 'Lets go party and drinks','Congrats on the new job','Congratulations',\n",
        " 'I am so happy for you', 'Why are you feeling bad', 'What is wrong with you',\n",
        " 'You totally deserve this prize', 'Let us go play football',\n",
        " 'Are you down for football this afternoon', 'Work hard play harder',\n",
        " 'It is suprising how people can be dumb sometimes',\n",
        " 'I am very disappointed','It is the best day in my life',\n",
        " 'I think I will end up alone','My life is so boring','Good job',\n",
        " 'Great so awesome'])\n"
      ]
    },
    {
      "cell_type": "code",
      "execution_count": 165,
      "metadata": {
        "colab": {
          "base_uri": "https://localhost:8080/"
        },
        "id": "2uZvl6LIH5IW",
        "outputId": "b791adc7-d4f2-44d6-9e2f-1232b0223fb3"
      },
      "outputs": [
        {
          "output_type": "stream",
          "name": "stdout",
          "text": [
            "Epoch 0，loss is 2.7324261263599503\n",
            "Accuracy: 0.25\n",
            "Epoch 100，loss is 0.34871808947094407\n",
            "Accuracy: 0.95\n",
            "Epoch 200，loss is 0.1801176936949795\n",
            "Accuracy: 0.95\n",
            "Epoch 300，loss is 0.12129523494696368\n",
            "Accuracy: 1.0\n",
            "Epoch 400，loss is 0.09137502137990512\n",
            "Accuracy: 1.0\n",
            "Epoch 500，loss is 0.0733232598589357\n",
            "Accuracy: 1.0\n",
            "Epoch 600，loss is 0.06127997406058603\n",
            "Accuracy: 1.0\n",
            "Epoch 700，loss is 0.052681506915353477\n",
            "Accuracy: 1.0\n",
            "Epoch 800，loss is 0.046234287760581604\n",
            "Accuracy: 1.0\n",
            "Epoch 900，loss is 0.04121816815519117\n",
            "Accuracy: 1.0\n",
            "[[5. 0. 0. 5. 4. 4. 4. 6. 6. 4. 1. 1. 5. 6. 6. 3. 6. 3. 4. 4.]]\n"
          ]
        }
      ],
      "source": [
        "pred, W, b = model(X_small, Y_small, word_to_vec_map)\n",
        "print(pred.T)"
      ]
    },
    {
      "cell_type": "markdown",
      "metadata": {
        "id": "Ltvf5EBTH_PQ"
      },
      "source": [
        "## Training with English"
      ]
    },
    {
      "cell_type": "code",
      "execution_count": 166,
      "metadata": {
        "colab": {
          "base_uri": "https://localhost:8080/",
          "height": 424
        },
        "id": "4srRwRzjPaR2",
        "outputId": "435c6fb4-bfaf-47da-bbde-1388f5b7ac7d"
      },
      "outputs": [
        {
          "output_type": "execute_result",
          "data": {
            "text/plain": [
              "       labels\n",
              "24515       1\n",
              "21369      18\n",
              "7912        0\n",
              "40811       4\n",
              "34910      15\n",
              "...       ...\n",
              "32399       0\n",
              "17048       2\n",
              "23924       0\n",
              "34086       0\n",
              "27439       5\n",
              "\n",
              "[35000 rows x 1 columns]"
            ],
            "text/html": [
              "\n",
              "  <div id=\"df-073cd2b5-88e2-4c0c-aee8-441e004b27f3\" class=\"colab-df-container\">\n",
              "    <div>\n",
              "<style scoped>\n",
              "    .dataframe tbody tr th:only-of-type {\n",
              "        vertical-align: middle;\n",
              "    }\n",
              "\n",
              "    .dataframe tbody tr th {\n",
              "        vertical-align: top;\n",
              "    }\n",
              "\n",
              "    .dataframe thead th {\n",
              "        text-align: right;\n",
              "    }\n",
              "</style>\n",
              "<table border=\"1\" class=\"dataframe\">\n",
              "  <thead>\n",
              "    <tr style=\"text-align: right;\">\n",
              "      <th></th>\n",
              "      <th>labels</th>\n",
              "    </tr>\n",
              "  </thead>\n",
              "  <tbody>\n",
              "    <tr>\n",
              "      <th>24515</th>\n",
              "      <td>1</td>\n",
              "    </tr>\n",
              "    <tr>\n",
              "      <th>21369</th>\n",
              "      <td>18</td>\n",
              "    </tr>\n",
              "    <tr>\n",
              "      <th>7912</th>\n",
              "      <td>0</td>\n",
              "    </tr>\n",
              "    <tr>\n",
              "      <th>40811</th>\n",
              "      <td>4</td>\n",
              "    </tr>\n",
              "    <tr>\n",
              "      <th>34910</th>\n",
              "      <td>15</td>\n",
              "    </tr>\n",
              "    <tr>\n",
              "      <th>...</th>\n",
              "      <td>...</td>\n",
              "    </tr>\n",
              "    <tr>\n",
              "      <th>32399</th>\n",
              "      <td>0</td>\n",
              "    </tr>\n",
              "    <tr>\n",
              "      <th>17048</th>\n",
              "      <td>2</td>\n",
              "    </tr>\n",
              "    <tr>\n",
              "      <th>23924</th>\n",
              "      <td>0</td>\n",
              "    </tr>\n",
              "    <tr>\n",
              "      <th>34086</th>\n",
              "      <td>0</td>\n",
              "    </tr>\n",
              "    <tr>\n",
              "      <th>27439</th>\n",
              "      <td>5</td>\n",
              "    </tr>\n",
              "  </tbody>\n",
              "</table>\n",
              "<p>35000 rows × 1 columns</p>\n",
              "</div>\n",
              "    <div class=\"colab-df-buttons\">\n",
              "\n",
              "  <div class=\"colab-df-container\">\n",
              "    <button class=\"colab-df-convert\" onclick=\"convertToInteractive('df-073cd2b5-88e2-4c0c-aee8-441e004b27f3')\"\n",
              "            title=\"Convert this dataframe to an interactive table.\"\n",
              "            style=\"display:none;\">\n",
              "\n",
              "  <svg xmlns=\"http://www.w3.org/2000/svg\" height=\"24px\" viewBox=\"0 -960 960 960\">\n",
              "    <path d=\"M120-120v-720h720v720H120Zm60-500h600v-160H180v160Zm220 220h160v-160H400v160Zm0 220h160v-160H400v160ZM180-400h160v-160H180v160Zm440 0h160v-160H620v160ZM180-180h160v-160H180v160Zm440 0h160v-160H620v160Z\"/>\n",
              "  </svg>\n",
              "    </button>\n",
              "\n",
              "  <style>\n",
              "    .colab-df-container {\n",
              "      display:flex;\n",
              "      gap: 12px;\n",
              "    }\n",
              "\n",
              "    .colab-df-convert {\n",
              "      background-color: #E8F0FE;\n",
              "      border: none;\n",
              "      border-radius: 50%;\n",
              "      cursor: pointer;\n",
              "      display: none;\n",
              "      fill: #1967D2;\n",
              "      height: 32px;\n",
              "      padding: 0 0 0 0;\n",
              "      width: 32px;\n",
              "    }\n",
              "\n",
              "    .colab-df-convert:hover {\n",
              "      background-color: #E2EBFA;\n",
              "      box-shadow: 0px 1px 2px rgba(60, 64, 67, 0.3), 0px 1px 3px 1px rgba(60, 64, 67, 0.15);\n",
              "      fill: #174EA6;\n",
              "    }\n",
              "\n",
              "    .colab-df-buttons div {\n",
              "      margin-bottom: 4px;\n",
              "    }\n",
              "\n",
              "    [theme=dark] .colab-df-convert {\n",
              "      background-color: #3B4455;\n",
              "      fill: #D2E3FC;\n",
              "    }\n",
              "\n",
              "    [theme=dark] .colab-df-convert:hover {\n",
              "      background-color: #434B5C;\n",
              "      box-shadow: 0px 1px 3px 1px rgba(0, 0, 0, 0.15);\n",
              "      filter: drop-shadow(0px 1px 2px rgba(0, 0, 0, 0.3));\n",
              "      fill: #FFFFFF;\n",
              "    }\n",
              "  </style>\n",
              "\n",
              "    <script>\n",
              "      const buttonEl =\n",
              "        document.querySelector('#df-073cd2b5-88e2-4c0c-aee8-441e004b27f3 button.colab-df-convert');\n",
              "      buttonEl.style.display =\n",
              "        google.colab.kernel.accessAllowed ? 'block' : 'none';\n",
              "\n",
              "      async function convertToInteractive(key) {\n",
              "        const element = document.querySelector('#df-073cd2b5-88e2-4c0c-aee8-441e004b27f3');\n",
              "        const dataTable =\n",
              "          await google.colab.kernel.invokeFunction('convertToInteractive',\n",
              "                                                    [key], {});\n",
              "        if (!dataTable) return;\n",
              "\n",
              "        const docLinkHtml = 'Like what you see? Visit the ' +\n",
              "          '<a target=\"_blank\" href=https://colab.research.google.com/notebooks/data_table.ipynb>data table notebook</a>'\n",
              "          + ' to learn more about interactive tables.';\n",
              "        element.innerHTML = '';\n",
              "        dataTable['output_type'] = 'display_data';\n",
              "        await google.colab.output.renderOutput(dataTable, element);\n",
              "        const docLink = document.createElement('div');\n",
              "        docLink.innerHTML = docLinkHtml;\n",
              "        element.appendChild(docLink);\n",
              "      }\n",
              "    </script>\n",
              "  </div>\n",
              "\n",
              "\n",
              "<div id=\"df-0057114a-55a5-4908-a8f1-8a30ef2a68a6\">\n",
              "  <button class=\"colab-df-quickchart\" onclick=\"quickchart('df-0057114a-55a5-4908-a8f1-8a30ef2a68a6')\"\n",
              "            title=\"Suggest charts\"\n",
              "            style=\"display:none;\">\n",
              "\n",
              "<svg xmlns=\"http://www.w3.org/2000/svg\" height=\"24px\"viewBox=\"0 0 24 24\"\n",
              "     width=\"24px\">\n",
              "    <g>\n",
              "        <path d=\"M19 3H5c-1.1 0-2 .9-2 2v14c0 1.1.9 2 2 2h14c1.1 0 2-.9 2-2V5c0-1.1-.9-2-2-2zM9 17H7v-7h2v7zm4 0h-2V7h2v10zm4 0h-2v-4h2v4z\"/>\n",
              "    </g>\n",
              "</svg>\n",
              "  </button>\n",
              "\n",
              "<style>\n",
              "  .colab-df-quickchart {\n",
              "      --bg-color: #E8F0FE;\n",
              "      --fill-color: #1967D2;\n",
              "      --hover-bg-color: #E2EBFA;\n",
              "      --hover-fill-color: #174EA6;\n",
              "      --disabled-fill-color: #AAA;\n",
              "      --disabled-bg-color: #DDD;\n",
              "  }\n",
              "\n",
              "  [theme=dark] .colab-df-quickchart {\n",
              "      --bg-color: #3B4455;\n",
              "      --fill-color: #D2E3FC;\n",
              "      --hover-bg-color: #434B5C;\n",
              "      --hover-fill-color: #FFFFFF;\n",
              "      --disabled-bg-color: #3B4455;\n",
              "      --disabled-fill-color: #666;\n",
              "  }\n",
              "\n",
              "  .colab-df-quickchart {\n",
              "    background-color: var(--bg-color);\n",
              "    border: none;\n",
              "    border-radius: 50%;\n",
              "    cursor: pointer;\n",
              "    display: none;\n",
              "    fill: var(--fill-color);\n",
              "    height: 32px;\n",
              "    padding: 0;\n",
              "    width: 32px;\n",
              "  }\n",
              "\n",
              "  .colab-df-quickchart:hover {\n",
              "    background-color: var(--hover-bg-color);\n",
              "    box-shadow: 0 1px 2px rgba(60, 64, 67, 0.3), 0 1px 3px 1px rgba(60, 64, 67, 0.15);\n",
              "    fill: var(--button-hover-fill-color);\n",
              "  }\n",
              "\n",
              "  .colab-df-quickchart-complete:disabled,\n",
              "  .colab-df-quickchart-complete:disabled:hover {\n",
              "    background-color: var(--disabled-bg-color);\n",
              "    fill: var(--disabled-fill-color);\n",
              "    box-shadow: none;\n",
              "  }\n",
              "\n",
              "  .colab-df-spinner {\n",
              "    border: 2px solid var(--fill-color);\n",
              "    border-color: transparent;\n",
              "    border-bottom-color: var(--fill-color);\n",
              "    animation:\n",
              "      spin 1s steps(1) infinite;\n",
              "  }\n",
              "\n",
              "  @keyframes spin {\n",
              "    0% {\n",
              "      border-color: transparent;\n",
              "      border-bottom-color: var(--fill-color);\n",
              "      border-left-color: var(--fill-color);\n",
              "    }\n",
              "    20% {\n",
              "      border-color: transparent;\n",
              "      border-left-color: var(--fill-color);\n",
              "      border-top-color: var(--fill-color);\n",
              "    }\n",
              "    30% {\n",
              "      border-color: transparent;\n",
              "      border-left-color: var(--fill-color);\n",
              "      border-top-color: var(--fill-color);\n",
              "      border-right-color: var(--fill-color);\n",
              "    }\n",
              "    40% {\n",
              "      border-color: transparent;\n",
              "      border-right-color: var(--fill-color);\n",
              "      border-top-color: var(--fill-color);\n",
              "    }\n",
              "    60% {\n",
              "      border-color: transparent;\n",
              "      border-right-color: var(--fill-color);\n",
              "    }\n",
              "    80% {\n",
              "      border-color: transparent;\n",
              "      border-right-color: var(--fill-color);\n",
              "      border-bottom-color: var(--fill-color);\n",
              "    }\n",
              "    90% {\n",
              "      border-color: transparent;\n",
              "      border-bottom-color: var(--fill-color);\n",
              "    }\n",
              "  }\n",
              "</style>\n",
              "\n",
              "  <script>\n",
              "    async function quickchart(key) {\n",
              "      const quickchartButtonEl =\n",
              "        document.querySelector('#' + key + ' button');\n",
              "      quickchartButtonEl.disabled = true;  // To prevent multiple clicks.\n",
              "      quickchartButtonEl.classList.add('colab-df-spinner');\n",
              "      try {\n",
              "        const charts = await google.colab.kernel.invokeFunction(\n",
              "            'suggestCharts', [key], {});\n",
              "      } catch (error) {\n",
              "        console.error('Error during call to suggestCharts:', error);\n",
              "      }\n",
              "      quickchartButtonEl.classList.remove('colab-df-spinner');\n",
              "      quickchartButtonEl.classList.add('colab-df-quickchart-complete');\n",
              "    }\n",
              "    (() => {\n",
              "      let quickchartButtonEl =\n",
              "        document.querySelector('#df-0057114a-55a5-4908-a8f1-8a30ef2a68a6 button');\n",
              "      quickchartButtonEl.style.display =\n",
              "        google.colab.kernel.accessAllowed ? 'block' : 'none';\n",
              "    })();\n",
              "  </script>\n",
              "</div>\n",
              "    </div>\n",
              "  </div>\n"
            ]
          },
          "metadata": {},
          "execution_count": 166
        }
      ],
      "source": [
        "Y_train"
      ]
    },
    {
      "cell_type": "code",
      "execution_count": 167,
      "metadata": {
        "colab": {
          "base_uri": "https://localhost:8080/"
        },
        "id": "50XV4dQiID-E",
        "outputId": "0df41c17-ce26-4ab9-a274-5df23ffad3aa"
      },
      "outputs": [
        {
          "output_type": "execute_result",
          "data": {
            "text/plain": [
              "array([ 1, 18,  0, ...,  0,  0,  5])"
            ]
          },
          "metadata": {},
          "execution_count": 167
        }
      ],
      "source": [
        "Y_train = np.asarray(Y_train[\"labels\"].tolist())\n",
        "Y_train # convert Y for model"
      ]
    },
    {
      "cell_type": "code",
      "execution_count": 168,
      "metadata": {
        "colab": {
          "base_uri": "https://localhost:8080/",
          "height": 363
        },
        "id": "WRVi5F6HIPTX",
        "outputId": "a475139f-7713-4ce8-80ab-c64c66d6a248"
      },
      "outputs": [
        {
          "output_type": "stream",
          "name": "stdout",
          "text": [
            "Epoch 0，loss is 3.3689984287035943\n",
            "Accuracy: 0.23645714285714287\n",
            "Epoch 100，loss is 3.413016629277083\n",
            "Accuracy: 0.24577142857142859\n",
            "Epoch 200，loss is 3.417383346354753\n",
            "Accuracy: 0.24605714285714286\n"
          ]
        },
        {
          "output_type": "error",
          "ename": "KeyboardInterrupt",
          "evalue": "ignored",
          "traceback": [
            "\u001b[0;31m---------------------------------------------------------------------------\u001b[0m",
            "\u001b[0;31mKeyboardInterrupt\u001b[0m                         Traceback (most recent call last)",
            "\u001b[0;32m<ipython-input-168-28a57755e68f>\u001b[0m in \u001b[0;36m<cell line: 1>\u001b[0;34m()\u001b[0m\n\u001b[0;32m----> 1\u001b[0;31m \u001b[0mpred\u001b[0m\u001b[0;34m,\u001b[0m \u001b[0mW\u001b[0m\u001b[0;34m,\u001b[0m \u001b[0mb\u001b[0m \u001b[0;34m=\u001b[0m \u001b[0mmodel\u001b[0m\u001b[0;34m(\u001b[0m\u001b[0mX_train\u001b[0m\u001b[0;34m,\u001b[0m \u001b[0mY_train\u001b[0m\u001b[0;34m,\u001b[0m \u001b[0mword_to_vec_map\u001b[0m\u001b[0;34m)\u001b[0m\u001b[0;34m\u001b[0m\u001b[0;34m\u001b[0m\u001b[0m\n\u001b[0m\u001b[1;32m      2\u001b[0m \u001b[0mprint\u001b[0m\u001b[0;34m(\u001b[0m\u001b[0mpred\u001b[0m\u001b[0;34m.\u001b[0m\u001b[0mT\u001b[0m\u001b[0;34m)\u001b[0m\u001b[0;34m\u001b[0m\u001b[0;34m\u001b[0m\u001b[0m\n",
            "\u001b[0;32m<ipython-input-162-e93b19e08436>\u001b[0m in \u001b[0;36mmodel\u001b[0;34m(X, Y, word_to_vec_map, learning_rate, num_iterations)\u001b[0m\n\u001b[1;32m     28\u001b[0m \u001b[0;34m\u001b[0m\u001b[0m\n\u001b[1;32m     29\u001b[0m \u001b[0;34m\u001b[0m\u001b[0m\n\u001b[0;32m---> 30\u001b[0;31m             \u001b[0mz\u001b[0m \u001b[0;34m=\u001b[0m \u001b[0mnp\u001b[0m\u001b[0;34m.\u001b[0m\u001b[0mdot\u001b[0m\u001b[0;34m(\u001b[0m\u001b[0mW\u001b[0m\u001b[0;34m,\u001b[0m \u001b[0mavg\u001b[0m\u001b[0;34m)\u001b[0m \u001b[0;34m+\u001b[0m \u001b[0mb\u001b[0m\u001b[0;34m\u001b[0m\u001b[0;34m\u001b[0m\u001b[0m\n\u001b[0m\u001b[1;32m     31\u001b[0m             \u001b[0ma\u001b[0m \u001b[0;34m=\u001b[0m \u001b[0msoftmax\u001b[0m\u001b[0;34m(\u001b[0m\u001b[0mz\u001b[0m\u001b[0;34m)\u001b[0m\u001b[0;34m\u001b[0m\u001b[0;34m\u001b[0m\u001b[0m\n\u001b[1;32m     32\u001b[0m \u001b[0;34m\u001b[0m\u001b[0m\n",
            "\u001b[0;32m/usr/local/lib/python3.10/dist-packages/numpy/core/overrides.py\u001b[0m in \u001b[0;36mdot\u001b[0;34m(*args, **kwargs)\u001b[0m\n",
            "\u001b[0;31mKeyboardInterrupt\u001b[0m: "
          ]
        }
      ],
      "source": [
        "pred, W, b = model(X_train, Y_train, word_to_vec_map)\n",
        "print(pred.T)"
      ]
    },
    {
      "cell_type": "markdown",
      "metadata": {
        "id": "lmcnDB6YIRbC"
      },
      "source": [
        "## Testing with English"
      ]
    },
    {
      "cell_type": "code",
      "execution_count": null,
      "metadata": {
        "id": "USY6hcr-Imgg"
      },
      "outputs": [],
      "source": [
        "Y_test = np.asarray(Y_test[\"labels\"].tolist())\n",
        "Y_test # convert Y for model; if already run once, no need to run teh second time."
      ]
    },
    {
      "cell_type": "code",
      "execution_count": null,
      "metadata": {
        "id": "Fg_YZfvCIZ3O"
      },
      "outputs": [],
      "source": [
        "print(\"=====Training====\")\n",
        "pred_train = predict(X_train, Y_train, W, b, word_to_vec_map)\n",
        "print(\"=====Test====\")\n",
        "pred_test = predict(X_test, Y_test, W, b, word_to_vec_map)"
      ]
    },
    {
      "cell_type": "code",
      "execution_count": null,
      "metadata": {
        "id": "194XeIBI3u1u"
      },
      "outputs": [],
      "source": [
        "# visualize the result\n",
        "\n",
        "print(Y_test.shape)\n",
        "print('           '+ label_to_emoji(0, language=\"english\") + '    ' + label_to_emoji(1, language=\"english\") + '    ' +  label_to_emoji(2, language=\"english\") + '    ' + label_to_emoji(3, language=\"english\") + '   ' + label_to_emoji(4, language=\"english\") + '    ' + label_to_emoji(5, language=\"english\") + '    ' + label_to_emoji(6, language=\"english\") + '    ' + label_to_emoji(7, language=\"english\") + '    ' + label_to_emoji(8, language=\"english\") + '    ' + label_to_emoji(9, language=\"english\") + '    ' + label_to_emoji(10, language=\"english\") + '    ' + label_to_emoji(11, language=\"english\") + '    ' + label_to_emoji(12, language=\"english\") + '    ' + label_to_emoji(13, language=\"english\") + '    ' + label_to_emoji(14, language=\"english\") + '    ' + label_to_emoji(15, language=\"english\") + '    ' + label_to_emoji(16, language=\"english\") + '    ' + label_to_emoji(17, language=\"english\") + '    ' + label_to_emoji(18, language=\"english\") + '    ' + label_to_emoji(19, language=\"english\"))\n",
        "print(pd.crosstab(Y_test, pred_test.reshape(15000,), rownames=['Actual'], colnames=['Predicted'], margins=True))\n",
        "# plot_confusion_matrix(Y_test, pred_test)\n"
      ]
    },
    {
      "cell_type": "code",
      "execution_count": null,
      "metadata": {
        "id": "XCYL_Joz4eAk"
      },
      "outputs": [],
      "source": [
        "from sklearn.utils.multiclass import unique_labels\n",
        "import seaborn as sns"
      ]
    },
    {
      "cell_type": "code",
      "execution_count": null,
      "metadata": {
        "id": "jWmHGH9G4fIh"
      },
      "outputs": [],
      "source": [
        "def plot_confusion_matrix(y_true, y_pred):\n",
        "    labels = unique_labels(y_true)\n",
        "    columns = [f'Predicted {label}' for label in labels]\n",
        "    index = [f'Actual {label}' for label in labels]\n",
        "    table = pd.DataFrame(confusion_matrix(y_true, y_pred),\n",
        "                         columns=columns, index=index)\n",
        "    return sns.heatmap(table, fmt='d', cmap='viridis')\n",
        "\n",
        "plot_confusion_matrix(Y_test, pred_test);"
      ]
    },
    {
      "cell_type": "code",
      "execution_count": null,
      "metadata": {
        "id": "NdGgSrRI4goi"
      },
      "outputs": [],
      "source": [
        "unique_elements, counts = np.unique(pred_test, return_counts=True)\n",
        "unique_elements,counts"
      ]
    },
    {
      "cell_type": "code",
      "execution_count": null,
      "metadata": {
        "id": "CN4mCoPv4jSA"
      },
      "outputs": [],
      "source": [
        "from sklearn.metrics import precision_score, recall_score, f1_score\n",
        "\n",
        "precision = precision_score(Y_test, pred_test, average='macro')\n",
        "recall = recall_score(Y_test, pred_test, average='macro')\n",
        "f1 = f1_score(Y_test, pred_test, average='macro')\n",
        "\n",
        "# Print the results\n",
        "print(f\"Precision: {precision}\")\n",
        "print(f\"Recall: {recall}\")\n",
        "print(f\"F1 Score: {f1}\")"
      ]
    },
    {
      "cell_type": "markdown",
      "metadata": {
        "id": "gd8LEiKiIref"
      },
      "source": [
        "## Training with Spanish"
      ]
    },
    {
      "cell_type": "code",
      "execution_count": null,
      "metadata": {
        "id": "ywCBMLP9IqfG"
      },
      "outputs": [],
      "source": [
        "Y_train_es = np.asarray(Y_train_es[\"labels\"].tolist())\n",
        "Y_train_es # convert Y for model"
      ]
    },
    {
      "cell_type": "code",
      "execution_count": null,
      "metadata": {
        "id": "Te64hRevIwfA"
      },
      "outputs": [],
      "source": [
        "pred, W, b = model(X_train_es, Y_train_es, word_to_vec_map)\n",
        "print(pred.T)"
      ]
    },
    {
      "cell_type": "markdown",
      "metadata": {
        "id": "-BdqdcnyODnK"
      },
      "source": [
        "## Testing with Spanish"
      ]
    },
    {
      "cell_type": "code",
      "execution_count": null,
      "metadata": {
        "id": "-3wYnt1EODnK"
      },
      "outputs": [],
      "source": [
        "Y_test_es = np.asarray(Y_test_es[\"labels\"].tolist())\n",
        "Y_test_es # convert Y for model"
      ]
    },
    {
      "cell_type": "code",
      "execution_count": null,
      "metadata": {
        "id": "B84xj2KiODnK"
      },
      "outputs": [],
      "source": [
        "print(\"=====Training====\")\n",
        "pred_train_es = predict(X_train_es, Y_train_es, W, b, word_to_vec_map)\n",
        "print(\"=====Test====\")\n",
        "pred_test_es = predict(X_test_es, Y_test_es, W, b, word_to_vec_map)"
      ]
    },
    {
      "cell_type": "code",
      "execution_count": null,
      "metadata": {
        "id": "OrZcJ8-t8yp-"
      },
      "outputs": [],
      "source": [
        "from sklearn.metrics import precision_score, recall_score, f1_score\n",
        "\n",
        "precision = precision_score(Y_test_es, pred_test, average='macro')\n",
        "recall = recall_score(Y_test_es, pred_test_es, average='macro')\n",
        "f1 = f1_score(Y_test_es, pred_test_es, average='macro')\n",
        "\n",
        "# Print the results\n",
        "print(f\"Precision: {precision}\")\n",
        "print(f\"Recall: {recall}\")\n",
        "print(f\"F1 Score: {f1}\")"
      ]
    },
    {
      "cell_type": "markdown",
      "metadata": {
        "id": "gRgUjv4r-Us_"
      },
      "source": [
        "## Improving Baseline Model"
      ]
    },
    {
      "cell_type": "code",
      "execution_count": null,
      "metadata": {
        "id": "ZmzRK5KB-RAi"
      },
      "outputs": [],
      "source": [
        "!pip install keras\n",
        "\n",
        "import numpy as np\n",
        "np.random.seed(0)\n",
        "from keras.models import Model\n",
        "from keras.layers import Dense, Input, Dropout, LSTM, Activation\n",
        "from keras.layers import Embedding\n",
        "from keras.preprocessing import sequence\n",
        "from keras.initializers import glorot_uniform\n",
        "np.random.seed(1)\n",
        "\n",
        "# The input is X (an array of strings representing sentences), which is then transformed into a corresponding list of sentences.\n",
        "# The output is a list or matrix that can be accepted by the Embedding() function\n",
        "def sentences_to_indices(X, word_to_index, max_len):\n",
        "\n",
        "    m = X.shape[0]\n",
        "    X_indices = np.zeros((m, max_len))\n",
        "\n",
        "    for i in range(m):\n",
        "\n",
        "        sentences_words = X[i].lower().split()\n",
        "\n",
        "\n",
        "        j = 0\n",
        "        for w in sentences_words:\n",
        "            if w in word_to_index:\n",
        "               X_indices[i, j] = word_to_index[w]\n",
        "\n",
        "            j += 1\n",
        "\n",
        "    return X_indices\n",
        "\n",
        "def pretrained_embedding_layer(word_to_vec_map, word_to_index):\n",
        "    vocab_len = len(word_to_index) + 1\n",
        "    emb_dim = word_to_vec_map[\"hi\"].shape[0]\n",
        "    # Initialize the embedding matrix\n",
        "    emb_matrix = np.zeros((vocab_len, emb_dim))\n",
        "    for word, index in word_to_index.items():\n",
        "        emb_matrix[index, :] = word_to_vec_map[word]\n",
        "    # Define the Keras embedding layer\n",
        "    embedding_layer = Embedding(vocab_len, emb_dim, trainable=False)\n",
        "    embedding_layer.build((None,))\n",
        "    embedding_layer.set_weights([emb_matrix])\n",
        "\n",
        "    return embedding_layer\n",
        "\n",
        "\n",
        "embedding_layer = pretrained_embedding_layer(word_to_vec_map, word_to_index)\n",
        "print(\"weights[0][1][3] =\", embedding_layer.get_weights()[0][1][3])"
      ]
    },
    {
      "cell_type": "code",
      "execution_count": null,
      "metadata": {
        "id": "pdxwjLoU23lF"
      },
      "outputs": [],
      "source": [
        "def new_model(input_shape, word_to_vec_map, word_to_index):\n",
        "    \"\"\"\n",
        "\n",
        "    \"\"\"\n",
        "    sentence_indices = Input(input_shape, dtype='int32')\n",
        "\n",
        "    embedding_layer = pretrained_embedding_layer(word_to_vec_map, word_to_index)\n",
        "\n",
        "\n",
        "    embeddings = embedding_layer(sentence_indices)\n",
        "    X = LSTM(128, return_sequences=True)(embeddings)\n",
        "    #dropout layer with probability 0.5\n",
        "    X = Dropout(0.5)(X)\n",
        "    X = LSTM(128, return_sequences=False)(X)\n",
        "    #dropout layer\n",
        "    X = Dropout(0.5)(X)\n",
        "    X = Dense(20)(X)\n",
        "    X = Activation('softmax')(X)\n",
        "    model = Model(inputs=sentence_indices, outputs=X)\n",
        "\n",
        "    return model\n"
      ]
    },
    {
      "cell_type": "code",
      "execution_count": null,
      "metadata": {
        "id": "zDzSqqzE-Ze-"
      },
      "outputs": [],
      "source": [
        "maxLen = 100\n",
        "model = new_model((maxLen,), word_to_vec_map, word_to_index)\n",
        "model.summary()"
      ]
    },
    {
      "cell_type": "code",
      "execution_count": null,
      "metadata": {
        "id": "9M4aMWqN-xb2"
      },
      "outputs": [],
      "source": [
        "X_train_indices = sentences_to_indices(X_train, word_to_index, maxLen)\n",
        "Y_train_oh = convert_to_one_hot(Y_train, C = 20)"
      ]
    },
    {
      "cell_type": "code",
      "execution_count": null,
      "metadata": {
        "id": "5pbaZQlZ-bJv"
      },
      "outputs": [],
      "source": [
        "model.compile(loss='categorical_crossentropy', optimizer='adam', metrics=['accuracy'])"
      ]
    },
    {
      "cell_type": "markdown",
      "metadata": {
        "id": "r_VdIrDZJNJz"
      },
      "source": [
        "if not working for the first time, run compile again"
      ]
    },
    {
      "cell_type": "markdown",
      "metadata": {
        "id": "tGCfUVg-_zV2"
      },
      "source": [
        "## Training with English Tweets"
      ]
    },
    {
      "cell_type": "code",
      "execution_count": null,
      "metadata": {
        "id": "YlLOOXfq-ccj"
      },
      "outputs": [],
      "source": [
        "model.fit(X_train_indices, Y_train_oh, epochs = 4, batch_size = 32, shuffle=True)"
      ]
    },
    {
      "cell_type": "code",
      "execution_count": null,
      "metadata": {
        "id": "wl3M30FN_pN6"
      },
      "outputs": [],
      "source": [
        "X_test_indices = sentences_to_indices(X_test, word_to_index, max_len = maxLen)\n",
        "Y_test_oh = convert_to_one_hot(Y_test, C = 20)\n",
        "loss, acc = model.evaluate(X_test_indices, Y_test_oh)\n",
        "print()\n",
        "print(\"Test accuracy = \", acc)\n",
        "\n",
        "\n",
        "from sklearn.metrics import classification_report\n",
        "\n",
        "Y_pred = model.predict_classes(X_test_indices)\n",
        "Y_true = [np.argmax(y) for y in Y_test_oh]\n",
        "# get evaluation metrics\n",
        "print(\"Classification Report:\")\n",
        "print(classification_report(Y_true, Y_pred))"
      ]
    },
    {
      "cell_type": "markdown",
      "metadata": {
        "id": "Zft_cMhN_2-F"
      },
      "source": [
        "## Training with Spanish Tweets"
      ]
    },
    {
      "cell_type": "code",
      "execution_count": null,
      "metadata": {
        "id": "O23pBFNmAL5d"
      },
      "outputs": [],
      "source": [
        "X_train_indices_es = sentences_to_indices(X_train_es, word_to_index, maxLen)\n",
        "Y_train_oh_es = convert_to_one_hot(Y_train_es, C = 20)"
      ]
    },
    {
      "cell_type": "code",
      "execution_count": null,
      "metadata": {
        "id": "EVfvbsxq_9pL"
      },
      "outputs": [],
      "source": [
        "model.fit(X_train_indices_es, Y_train_oh_es, epochs = 4, batch_size = 32, shuffle=True)"
      ]
    },
    {
      "cell_type": "code",
      "execution_count": null,
      "metadata": {
        "id": "xVXDOwSo_-IO"
      },
      "outputs": [],
      "source": [
        "X_test_indices_es = sentences_to_indices(X_test_es, word_to_index, max_len = maxLen)\n",
        "Y_test_oh_es = convert_to_one_hot(Y_test_es, C = 5)\n",
        "loss, acc = model.evaluate(X_test_indices_es, Y_test_oh_es)\n",
        "print()\n",
        "print(\"Test accuracy = \", acc)\n",
        "\n",
        "from sklearn.metrics import classification_report\n",
        "\n",
        "Y_pred_es = model.predict_classes(X_test_indices_es)\n",
        "Y_true_es = [np.argmax(y) for y in Y_test_oh_es]\n",
        "# get evaluation metrics\n",
        "print(\"Classification Report:\")\n",
        "print(classification_report(Y_true_es, Y_pred_es))"
      ]
    }
  ],
  "metadata": {
    "colab": {
      "provenance": []
    },
    "kernelspec": {
      "display_name": "Python 3",
      "name": "python3"
    },
    "language_info": {
      "name": "python"
    }
  },
  "nbformat": 4,
  "nbformat_minor": 0
}